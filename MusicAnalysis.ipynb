{
 "cells": [
  {
   "cell_type": "markdown",
   "metadata": {},
   "source": [
    "# Introduction\n",
    "\n",
    "In today's world, smartphones and apps like Spotify have made it easy to listen to music anywhere and all the time. Personally, listening to music helps me focus and calms me when I am stressed. However, recently, I got bored of listening to the same songs everytime and wanted to explore new songs. That's when it hit me that, using the knowledge that I have gained, it would be amazing to analyze the type of music that I listen to and use that to predict a few songs that I'd enjoy.\n",
    "\n",
    "This tutorial aims to demonstrate the application of the Data Science pipeline on the topic of Music Analysis and Song Recommendation. We'll first use the Spotify API to scrape songs from Spotify and obtain audio features. We will then visualize these features to get a sense of what kind of songs I listen to. Next, we will perform Principal Component Analysis to reduce dimensionality of our features. Lastly, we will use Logistic Regression to train our model and predict the results on a set of test data points - effectively recommending new music!"
   ]
  },
  {
   "cell_type": "markdown",
   "metadata": {
    "collapsed": true
   },
   "source": [
    "# Setting up\n",
    "\n",
    "Run the following to ensure that all the libraries necessary are installed."
   ]
  },
  {
   "cell_type": "code",
   "execution_count": 105,
   "metadata": {
    "collapsed": true
   },
   "outputs": [],
   "source": [
    "# These libraries should be available when you installed Anaconda for the class.\n",
    "import json\n",
    "import pandas as pd\n",
    "import matplotlib.pyplot as plt\n",
    "from sklearn.linear_model import LogisticRegression\n",
    "from sklearn.decomposition import PCA\n",
    "from sklearn.model_selection import train_test_split\n",
    "from sklearn.preprocessing import StandardScaler"
   ]
  },
  {
   "cell_type": "markdown",
   "metadata": {},
   "source": [
    "# Data Collection\n",
    "\n",
    "I will use the Spotify Web API to collect songs as I have saved a library of 255 songs on Spotify. There are two ways with which Spotify data can be accessed:\n",
    "\n",
    "1. **Spotipy Library**: [Spotipy](http://spotipy.readthedocs.io/en/latest/) is a Python library that makes it easy to use the Spotify Web API.\n",
    "\n",
    "2. **Spotify Web Console**: The Spotify Web Console allows developers to make simple requests, and displays the corresponding CURL request. You can either run a simple query on the website and copy paste the results or you can run the CURL command in terminal and output the results to a file."
   ]
  },
  {
   "cell_type": "markdown",
   "metadata": {},
   "source": [
    "Following is a screenshot of what the Spotify Web Console looks like:"
   ]
  },
  {
   "cell_type": "markdown",
   "metadata": {},
   "source": [
    "[<img src=\"https://github.com/vr96/PDSTutorial15388/blob/master/Images/spotifyWebConsole.png?raw=true\">](https://github.com/vr96/PDSTutorial15388/blob/master/Images/spotifyWebConsole.png?raw=true)"
   ]
  },
  {
   "cell_type": "markdown",
   "metadata": {},
   "source": [
    "For this tutorial, I used both methods as necessary and saved the data in .txt files. While, I'll show snippets or link you to a tutorial for both methods, the bulk of the processing will occur by reading from the .txt files, for ease of use. I'll provide downloadable links to these .txt files."
   ]
  },
  {
   "cell_type": "markdown",
   "metadata": {},
   "source": [
    "## Scraping songs from Spotify\n",
    "\n",
    "For our training set, I decided to classify songs into positive and negative songs. The positive songs are the ones that I have saved in my Spotify library. The negative ones are songs that I have listened to before but did not save to my library.\n",
    "\n",
    "To collect the positive songs, I first setup my Spotify developer account, registered my app and obtained my API keys by following Spotify's getting started tutorial: https://developer.spotify.com/web-api/tutorial/. \n",
    "\n",
    "Then, I used this demo: https://github.com/perelin/spotipy_oauth_demo/blob/master/spotipy_oauth_demo.py to setup a quick server to authenticate myself. Next, I used the `current_user_saved_tracks` method from Spotipy's reference guide at: http://spotipy.readthedocs.io/en/latest/, to access my account and retrieve all the songs from my library. \n",
    "\n",
    "I saved these results in `positiveSongs.txt` which can be downloaded here: \n",
    "https://github.com/vr96/PDSTutorial15388/raw/master/positiveSongs.txt\n"
   ]
  },
  {
   "cell_type": "markdown",
   "metadata": {},
   "source": [
    "Spotify doesn't have a simple way to find the negative songs. Instead, I found the playlists that I have listened to. The songs that weren't saved were classified as negative songs. I followed the method above and saved all the negative songs in `negativeSongs.txt`, which can be downloaded here: https://github.com/vr96/PDSTutorial15388/raw/master/negativeSongs.txt. There's a total of 236 negative songs. \n",
    "\n",
    "Save these files in the same directory as this ipynb notebook."
   ]
  },
  {
   "cell_type": "markdown",
   "metadata": {},
   "source": [
    "# Data Processing\n",
    "\n",
    "We are now ready to access the information from the .txt files. I have created a couple of helper functions below to aid this process:"
   ]
  },
  {
   "cell_type": "code",
   "execution_count": 70,
   "metadata": {
    "collapsed": true
   },
   "outputs": [],
   "source": [
    "'''\n",
    "Reads the contents from a file and converts single quotes to double quotes.\n",
    "\n",
    "Input: \n",
    "fileName - name of file to be read (String)\n",
    "singleQuotesCheck - flag to convert single quotes to double quotes (Boolean)\n",
    "\n",
    "Output:\n",
    "contents - Json contents of the file\n",
    "\n",
    "'''\n",
    "def readFromFile(filename, singleQuotesCheck):\n",
    "    f = open(filename, \"r\") \n",
    "    contents = f.read()\n",
    "    if singleQuotesCheck:\n",
    "        contents = contents.replace(\"'\", '\"')\n",
    "    contents = json.loads(contents)\n",
    "\n",
    "    return contents"
   ]
  },
  {
   "cell_type": "code",
   "execution_count": 108,
   "metadata": {
    "collapsed": true
   },
   "outputs": [],
   "source": [
    "'''\n",
    "Gets the name, artist and ID of each song. We will use the IDs to receive the audio features in a moment.\n",
    "\n",
    "Input: \n",
    "items - Json object containing the contents of a file. (List of dictionaries)\n",
    "\n",
    "Output:\n",
    "names - Names of all songs. (List)\n",
    "ids - IDs of all songs. (List)\n",
    "artists - Artist names of all songs. (List)\n",
    "\n",
    "'''\n",
    "def getInfo(items):\n",
    "    names = []\n",
    "    ids = []\n",
    "    artists = []\n",
    "\n",
    "    for i in range(len(items)):\n",
    "        item = items[i]\n",
    "        \n",
    "        # Based on whether I queried a playlist or a list of individual track,\n",
    "        # some data points have info about the song in the \"track\" key. For these\n",
    "        # songs, I am indexing into the track itself.\n",
    "        if 'track' in item.keys():\n",
    "            item = item['track']\n",
    "\n",
    "        names.append(item['name'])\n",
    "        ids.append(item['id'])\n",
    "        artist = item['artists'][0]['name']\n",
    "        artists.append(artist)\n",
    "\n",
    "    return (names, ids, artists)"
   ]
  },
  {
   "cell_type": "markdown",
   "metadata": {},
   "source": [
    "Great! Now that we have defined our helper functions, we are ready to start using real data! \n",
    "\n",
    "We will first read the dataset of the positive songs. "
   ]
  },
  {
   "cell_type": "code",
   "execution_count": 109,
   "metadata": {},
   "outputs": [],
   "source": [
    "# Positive Dataset\n",
    "posSongs = readFromFile(\"positiveSongs.txt\", False)\n",
    "posSongs = posSongs['items']"
   ]
  },
  {
   "cell_type": "markdown",
   "metadata": {},
   "source": [
    "Now, let's get the names, ids and artists of the postive songs."
   ]
  },
  {
   "cell_type": "code",
   "execution_count": 110,
   "metadata": {},
   "outputs": [
    {
     "name": "stdout",
     "output_type": "stream",
     "text": [
      "['One More Night - 2016 Remastered', 'Do You Remember? - 2016 Remastered', 'Do You Remember Rock And Roll Radio', 'All Of My Life - 2016 Remastered', 'More Than a Feeling', 'Walking On Sunshine - Original Version', 'Walking On Sunshine', 'One Step Closer', 'Seven Nation Army', 'On Top Of The World', 'Rock and Roll Part 2 (Hey Song) - TV Sports Mix', 'Good Grief', 'The Deepest Blues Are Black', 'This Is a Call', 'Take Five', 'In the Mood', 'Follow Me', 'Bad, Bad Leroy Brown', \"Dr. No's Fantasy (Remastered)\", \"It's Oh, So Nice\", \"It's Sand, Man! - 78rpm Version\", 'At Last - Single Version', \"That's Life\", 'You Make Me Feel So Young - 1998 Digital Remaster', 'Let It Snow! Let It Snow! Let It Snow!', 'Two Princes', 'Teach Me Tonight', 'Fly Me To The Moon', 'The Way You Look Tonight', 'Hello, Dolly!', 'The Girl From Ipanema - 1992 Digital Remaster', 'I Got You (I Feel Good)', 'What A Wonderful World - Single Version', 'The Imperial March - From \"Star Wars: The Empire Strikes Back\"', 'The Pink Panther Theme - Metal Version', 'Pink Panther Theme', 'James Bond Theme (From \"Dr. No.\")', 'Jingle Bell Rock', 'Come Fly With Me - 1998 Digital Remaster', 'Rock And Roll All Nite', 'A Love Supreme, Pt. I – Acknowledgement', \"It's the Most Wonderful Time of the Year\", 'Bad, Bad Leroy Brown', 'Theme From New York, New York', 'Mr. Crowley', 'Into Your Arms', 'Numb', 'Somewhere I Belong', 'In The End', 'BURN IT DOWN', 'New Divide', 'Trip Switch', 'Wonderful Tonight', 'Tonight', 'All It Ever Was', 'The Metal', 'Clocks', 'Closing Time', 'So Far Away', 'Bad', 'Billie Jean', 'Beat It', 'Thriller', 'Black or White', 'Jam', 'Delicious', 'Hotel California - Remastered', 'Imagine - 2010 - Remaster', 'Kick This', 'You Are The One', 'Nothing In My Way', 'Dear God', 'Paranoid', 'Seize the Day', 'Supermassive Black Hole', \"I'm Shipping Up To Boston\", 'Iron Man - Remastered Version', 'Bat Country', 'Stayin\\' Alive - From \"Saturday Night Fever\" Soundtrack', 'Toura Toura - The Nav Deep Remix', 'Tive Razao (I Was Right)', 'Sewn', 'TMCR Grand Finale', 'New York Minute', 'Los AnGeles', 'Afterlife', 'White Room', \"Baba O'Riley\", 'Party Rock Anthem', 'I Like It', 'Civil War', \"Don't Damn Me\", \"Knockin' On Heaven's Door - Live In London / 1992\", 'Picture Of You', 'Arlandria', 'Something from Nothing', 'Smoke On The Water', 'Viva La Vida', 'This Love', 'Paradise', 'These Days', 'Rope', 'All My Life', 'Hey, Johnny Park!', 'Monkey Wrench', 'Times Like These', 'Stacked Actors', 'Big Me', \"I'll Stick Around\", 'My Hero', 'Learn to Fly', 'Californication', 'Best of You', 'Everlong', 'The Pretender', 'Walk', 'Under The Bridge', 'Lucy In The Sky With Diamonds - Remastered', \"Baby, You're A Rich Man - Remastered\", 'I Want To Hold Your Hand - Remastered', 'Hey Jude - Remastered 2015', 'Help! - Remastered 2015', 'Yellow Submarine - Remastered 2015', 'Day Tripper - Remastered 2015', 'Yesterday - Remastered 2015', 'Ticket To Ride - Remastered 2015', 'Hangar 18 - 2004 Digital Remaster', 'Holy Wars...The Punishment Due - 2004 Digital Remaster', 'Mouth For War', 'Cowboys From Hell', 'Wake Me Up When September Ends', 'Are We The Waiting/St. Jimmy', 'Castaway', 'Minority', 'The Gentle Hum of Anxiety', 'Complication With Optimistic Outcome', 'Magnetic', 'In the Hall of the Mountain King', 'Eventually We Find Our Way', 'Painted Sun in Abstract', 'Intriguing Possibilities', 'A Familiar Taste', 'Lucy In The Sky With Diamonds', 'Philadelphia Freedom', 'Sorry Seems To Be The Hardest Word', \"Don't Go Breaking My Heart\", 'Run to the Hills', 'The Trooper', 'Fear of the Dark', 'Wasting Love', 'Caught In A Mosh', 'Silver Ghost', 'Immigrant Song', 'Comfortably Numb - 2011 Remastered Version', \"Life's Been Good\", 'Dangerous (feat. Joywave)', 'In Motion', 'Ten Thousand Fists', \"(I Can't Get No) Satisfaction - Mono Version / Remastered 2002\", 'Lucy In The Sky With Diamonds - Edit', 'School - Remastered', 'Dumb', 'Serve The Servants', 'Rape Me', 'Heart-Shaped Box', 'The Call Of Ktulu', 'All Along the Watchtower', \"Rocket Man (I Think It's Going To Be A Long Long Time)\", 'Free Bird', 'Sweet Home Alabama', 'You Shook Me All Night Long', \"Rock and Roll Ain't Noise Pollution\", \"It's a Long Way to the Top (If You Wanna Rock 'N' Roll)\", 'Highway to Hell', 'Thunderstruck', 'Back In Black', 'Garden Of Eden', 'Estranged', 'Nightrain', \"Knockin' On Heaven's Door\", 'November Rain', 'Paradise City', 'Welcome To The Jungle', \"Sweet Child O' Mine\", 'Sweet Emotion', 'I Bet My Life', 'Psycho', 'Needles', 'Deer Dance', 'Prison Song', 'Soldier Side', 'Hypnotize', 'Chop Suey!', 'B.Y.O.B.', 'Toxicity', 'Aerials', 'Radio/Video', 'Harvester Of Sorrow', 'Blackened', 'Nothing Else Matters', 'Wherever I May Roam', 'The Unforgiven', 'Sad But True', 'Enter Sandman', 'The Unforgiven II', 'The Memory Remains', 'Fuel', 'My Apocalypse', 'The Judas Kiss', 'The Unforgiven III', 'All Nightmare Long', 'The Day That Never Comes', 'Broken, Beat & Scarred', 'Creeping Death', 'Ride The Lightning', 'Fade To Black', 'One', 'Peace Sells - 2011 - Remastered', 'Mechanix', 'Amazing', 'Crazy', 'Love In An Elevator', 'Purple Haze - Live At Monterey', 'About A Girl - Remastered', 'Walk This Way', 'Dream On', 'Holiday/Boulevard Of Broken Dreams', 'Paranoid - Remastered Version', 'When I Come Around', '21 Guns', 'American Idiot', 'Purple Haze', 'Purple Haze - Live At Woodstock', 'Come As You Are', 'Battery', 'Welcome Home (Sanitarium)', 'Master Of Puppets', 'Sunshine Of Your Love', 'For Whom The Bell Tolls', 'The Four Horsemen', 'Whiplash', 'Seek & Destroy', 'Ace Of Spades', 'Bohemian Rhapsody - Remastered 2011', 'We Will Rock You', 'We Are The Champions', '(Oh) Pretty Woman', 'Come As You Are', 'Panama', 'Hot For Teacher', 'Crossroads', 'Drain You', 'Lithium', 'Breed', 'In Bloom - Nevermind Version']\n"
     ]
    }
   ],
   "source": [
    "(posNames, posIds, posArtists) = getInfo(posSongs)\n",
    "print(posNames)"
   ]
  },
  {
   "cell_type": "markdown",
   "metadata": {},
   "source": [
    "We will now repeat the process for the negative songs."
   ]
  },
  {
   "cell_type": "code",
   "execution_count": 111,
   "metadata": {},
   "outputs": [
    {
     "name": "stdout",
     "output_type": "stream",
     "text": [
      "['Despacito - Remix', \"I'm the One\", 'Shape of You', 'HUMBLE.', 'Mask Off', 'Something Just Like This', 'Stay (with Alessia Cara)', \"It Ain't Me (with Selena Gomez)\", 'Swalla (feat. Nicki Minaj & Ty Dolla $ign)', 'Malibu', \"There's Nothing Holdin' Me Back\", \"That's What I Like\", 'Symphony (feat. Zara Larsson)', 'Despacito (Featuring Daddy Yankee)', 'Attention', 'Passionfruit', 'Sign of the Times', 'XO TOUR Llif3', 'First Time', 'Felices los 4', 'Unforgettable', 'DNA.', 'Issues', 'Scared to Be Lonely', 'Galway Girl', 'Slide', 'Congratulations', 'No Promises (feat. Demi Lovato)', '1-800-273-8255', 'Thunder', 'SUBEME LA RADIO', 'Pretty Girl - Cheat Codes X CADE Remix', 'Me Rehúso', 'The Cure', 'iSpy (feat. Lil Yachty)', 'Good Life (with G-Eazy & Kehlani)', 'Now Or Never', 'Believer', 'Location', 'Rockabye (feat. Sean Paul & Anne-Marie)', 'Paris', 'Call On Me - Ryan Riback Extended Remix', 'Rollin', 'I Don’t Wanna Live Forever (Fifty Shades Darker) - From \"Fifty Shades Darker (Original Motion Picture Soundtrack)\"', 'Cold', 'LOVE. FEAT. ZACARI.', 'I Feel It Coming', 'El Amante', \"You Don't Know Me - Radio Edit\", 'Slow Hands', 'Solo Dance', 'Bon Appétit', 'Escápate Conmigo', \"Say You Won't Let Go\", 'Portland', 'LOYALTY. FEAT. RIHANNA.', 'Ahora Dice', 'The Night We Met', 'Tuesday', 'Hey Ma (with Pitbull & J Balvin feat. Camila Cabello) - Spanish Version', 'Sweet Creature', 'Closer', 'Castle on the Hill', 'Tunnel Vision', 'Still Got Time', 'ELEMENT.', 'Most Girls', 'Chantaje', 'goosebumps', 'Starboy', 'Selfish', 'Sigo Extrañándote', 'Perfect', 'Bad and Boujee (feat. Lil Uzi Vert)', 'One Dance', 'Body Like A Back Road', 'September Song', 'Hey DJ', 'Chained To The Rhythm', 'Fake Love', 'The One', 'Bounce Back', 'Slippery (feat. Gucci Mane)', 'Let Me Love You', 'Otra Vez (feat. J Balvin)', 'Touch', 'Look At Me!', 'do re mi', 'La Rompe Corazones', 'Quit (feat. Ariana Grande)', 'No Vacancy', 'Starving', 'Weak', 'Redbone', 'Green Light', '24K Magic', 'Tu Foto', 'T-Shirt', 'Sola (Remix) [feat. Daddy Yankee, Wisin, Farruko, Zion & Lennox]', 'Whippin (feat. Felix Snow)', 'Nevermind', 'Love Lies (with Normani)', 'Freaky Friday (feat. Chris Brown)', 'FRIENDS', 'In My Blood', 'Delicate', 'Psycho (feat. Ty Dolla $ign)', 'Lemon - Drake Remix', 'Like I Do', 'Lost In Japan', 'The Middle', 'Mad Love', 'These Days (feat. Jess Glynne, Macklemore & Dan Caplen)', '1950', 'Plug Walk', 'Beautiful', \"God's Plan\", 'Everybody Hates Me', 'Everyday', 'Walk It Talk It', 'All The Stars (with SZA)', 'Powerglide (feat. Juicy J)', 'IDGAF', 'Mine', 'Breathe', 'Look Alive (feat. Drake)', 'Never Be the Same', 'Remind Me to Forget', 'Home with You', 'Sober Up', 'X', 'Heaven', 'Sit Next to Me - Stereotypes Remix', 'Pray For Me (with Kendrick Lamar)', 'Flames', 'Wait (feat. A Boogie Wit da Hoodie)', 'Tequila', 'You Are The Reason', 'Say Something', 'Alien', '66', 'Capital Letters', 'Personal', 'Nothing to Regret', '1, 2, 3 (feat. Jason Derulo & De La Ghetto)', 'Marry Me', 'Getting Over You', 'Nowadays (feat. Landon Cube)', 'Finesse (Remix) [feat. Cardi B]', 'Meant to Be (feat. Florida Georgia Line)', 'Ni**as In Paris', 'No Church In The Wild', 'Oceans', 'Ni**as In Paris', 'Otis', 'Made In America', 'Welcome To The Jungle', 'Stronger', 'POWER', 'Gold Digger', 'Monster', 'All Of The Lights', 'All Day', 'Lose Yourself - Soundtrack Version', 'Love The Way You Lie', 'The Monster', \"'Till I Collapse\", 'Rap God', 'Not Afraid', 'Mockingbird', 'In Da Club', 'Jumpman', 'Summer Sixteen', 'Legend', 'Back To Back', 'Energy', '0 To 100 / The Catch Up', 'Now & Forever', 'Used To', 'Worst Behavior', \"Hold On, We're Going Home\", 'Started From The Bottom', 'Forever', 'Mirror', 'King Kunta', 'A.D.H.D', 'm.A.A.d city', 'The Next Episode', 'I Need A Doctor', 'Still D.R.E.', 'Pop Style', 'King Nothing', 'Whiskey In The Jar', 'St. Anger', 'Until It Sleeps', 'Turn The Page', \"Don't Tread On Me\", 'Orion (Remastered)', 'The Thing That Should Not Be (Remastered)', 'All The Things You Are', \"You Know You're Right\", 'Edelweiss', 'Pride (In The Name Of Love) - Remastered 2009', 'The Miracle (Of Joey Ramone)', 'So What', 'Twisted', 'Embraceable You', 'Nature Boy', 'I Only Have Eyes For You', 'Stardust', 'Take the \"A\" Train', \"I've Got You Under My Skin\", 'Django', 'Space Oddity - 2015 Remastered Version', 'Alive', 'I Am A River', 'Anti-Everything', 'Something In The Way', 'All Apologies', 'The Man Who Sold The World - MTV Unplugged', 'Voodoo Child (Slight Return)', 'Tears In Heaven', 'Dear God', 'Dance of Death - 2015 Remastered Version', 'Stairway To Heaven', '3005', 'Holy Diver', 'Sympathy For The Devil', 'Sympathy For The Devil', 'T.N.T.', 'Nikita', \"Don't Let the Sun Go Down on Me\", 'Tornado Of Souls - 2004 Digital Remaster', 'Dude (Looks Like A Lady)', 'Patience', 'Crazy Little Thing Called Love']\n"
     ]
    }
   ],
   "source": [
    "negSongs = readFromFile(\"negativeSongs.txt\", False)\n",
    "negSongs = negSongs['items']\n",
    "(negNames, negIds, negArtists) = getInfo(negSongs)\n",
    "print(negNames)"
   ]
  },
  {
   "cell_type": "markdown",
   "metadata": {},
   "source": [
    "\n",
    "\n",
    "The above concludes the extraction of the training set. Now, to extract the test set, I picked songs from multiple playlists across genres and added them to a separate test playlist. I haven't listened to any of the songs in this playlist, yet. The playlist can be found here: https://open.spotify.com/user/gundadhur/playlist/6iRm5ApLYmmbK28YVJXhro\n",
    "\n",
    "I used the following request to get access to all the information in the playlist:\n",
    "\n",
    "`curl -X GET \"https://api.spotify.com/v1/users/gundadhur/playlists/6iRm5ApLYmmbK28YVJXhro/tracks\" -H \"Authorization: Bearer {Enter your Authorization Token Here} > testSetSongs.txt`\n",
    "\n",
    "The songs were saved in testSetSongs.txt, which can be downloaded here: https://github.com/vr96/PDSTutorial15388/raw/master/testSetSongs.txt\n",
    "\n",
    "We can read the contents of the file and get the name, artist and id information the same way as we did for the training data."
   ]
  },
  {
   "cell_type": "code",
   "execution_count": 100,
   "metadata": {},
   "outputs": [
    {
     "name": "stdout",
     "output_type": "stream",
     "text": [
      "['Paint It, Black - Mono / Remastered', 'Hallowed Be Thy Name - 1998 Remastered Version', 'Gimme Shelter', 'Born To Be Wild', 'Lost', 'Rock You Like A Hurricane', 'Pour Some Sugar On Me - Remastered 2017', 'Crazy Train - Remastered', 'Jump', \"Runnin' With The Devil - 2015 Remastered Version\", 'All the Things You Are', 'Another One Bites The Dust', 'Money', 'Kashmir', \"Free Fallin'\"]\n"
     ]
    }
   ],
   "source": [
    "testContents = readFromFile(\"testSetSongs.txt\", False)\n",
    "testItems = testContents['items']\n",
    "(testNames, testIds, testArtists) = getInfo(testItems)\n",
    "print(testNames)"
   ]
  },
  {
   "cell_type": "markdown",
   "metadata": {},
   "source": [
    "# Feature Extraction\n",
    "\n",
    "We can now get all the audio features from our dataset. We will explore and use these features for our model. We have access to `Acousticness`, `Danceability`, `Duration`, `Energy`, `Instrumentalness`, `Liveness`, `Loudness`, `Speechiness`, `Tempo` and `Valence`. The description of each feature can be found here: https://developer.spotify.com/web-api/get-audio-features/\n",
    "\n",
    "A snippet of this extraction using Spotipy is below. It can't be run as I didn't include the API keys in this notebook (for obvious reasons)."
   ]
  },
  {
   "cell_type": "code",
   "execution_count": 77,
   "metadata": {
    "collapsed": true
   },
   "outputs": [],
   "source": [
    "'''\n",
    "Gets the audio features for all songs.\n",
    "\n",
    "Inputs: \n",
    "ids - List of ids of all songs. (List)\n",
    "\n",
    "Outputs:\n",
    "finFeatures - List of dictionaries of features of each songs. (List of dictionaries)\n",
    "\n",
    "'''\n",
    "\n",
    "def getAudioFeatures(ids):\n",
    "    \n",
    "    # Initialize credentials manager using the client credentials.\n",
    "    client_credentials_manager = SpotifyClientCredentials(client_id=SPOTIPY_CLIENT_ID, client_secret=SPOTIPY_CLIENT_SECRET)\n",
    "    \n",
    "    # Create a spotipy object using the manager.\n",
    "    sp = spotipy.Spotify(client_credentials_manager=client_credentials_manager)\n",
    "    \n",
    "    itemsLength = len(ids)\n",
    "    \n",
    "    # Using a limit to abide by rate limiting rules.\n",
    "    currCount = 0\n",
    "    limitCount = 99\n",
    "\n",
    "    finFeatures = []\n",
    "    while currCount < itemsLength:\n",
    "        # Get features from the list of songs.\n",
    "        features = sp.audio_features(ids[currCount:currCount+limitCount])\n",
    "\n",
    "        finFeatures += features\n",
    "        currCount += limitCount\n",
    "    \n",
    "    # Return the list of features.\n",
    "    return finFeatures\n"
   ]
  },
  {
   "cell_type": "markdown",
   "metadata": {},
   "source": [
    "The results of the above function were stored in the following files:\n",
    "\n",
    "1. positiveSongsFeatures.txt: Features of positive songs. Download link:  https://github.com/vr96/PDSTutorial15388/raw/master/positiveSongsFeatures.txt\n",
    "2. negativeSongsFeatures.txt: Features of negative songs. Download link:  https://github.com/vr96/PDSTutorial15388/raw/master/negativeSongsFeature.txt\n",
    "3. testSetFeatures.txt: Features of test songs. Download link: https://github.com/vr96/PDSTutorial15388/raw/master/testSetFeatures.txt\n",
    "\n",
    "Now, we will read the features from the appropriate features file."
   ]
  },
  {
   "cell_type": "code",
   "execution_count": 112,
   "metadata": {
    "collapsed": true
   },
   "outputs": [],
   "source": [
    "# Read the features of the positive songs.\n",
    "posFeatures = readFromFile(\"positiveSongsFeatures.txt\", True)\n",
    "posFeatures = posFeatures[\"features\"]\n",
    "\n",
    "# Read the features of the negative songs.\n",
    "negativeFeatures = readFromFile(\"negativeSongsFeature.txt\", True)\n",
    "negativeFeatures = negativeFeatures[\"features\"]\n",
    "\n",
    "# Read the features of the test songs.\n",
    "testFeatures = readFromFile(\"testSetFeatures.txt\", True)\n",
    "testFeatures = testFeatures[\"features\"]"
   ]
  },
  {
   "cell_type": "markdown",
   "metadata": {},
   "source": [
    "### Storing the data in Data Frames\n",
    "\n",
    "Now, that we have finally collected all our data and extracted the features, we can store all the information in dataframes.\n",
    "\n",
    "First, let's create the dataframe of positive features."
   ]
  },
  {
   "cell_type": "code",
   "execution_count": 102,
   "metadata": {
    "collapsed": true
   },
   "outputs": [],
   "source": [
    "# Creates a dataframe from the positive features.\n",
    "posFeaturesDf = pd.DataFrame(posFeatures)\n",
    "# Given a lot of extraneous features, we are just picking the 8 that can be most easily compared.\n",
    "posFeaturesDf = posFeaturesDf[['acousticness', 'danceability', 'energy', 'instrumentalness', 'loudness', 'speechiness', 'tempo', 'valence']]\n",
    "# Add the name of the songs as a column.\n",
    "posFeaturesDf.insert(loc=0, column='name', value=posNames)\n",
    "# Add the artist information as a column.\n",
    "posFeaturesDf.insert(loc=1, column='artists', value=posArtists)\n",
    "# Positive songs are labelled with a '1'.\n",
    "posFeaturesDf['savedTrack'] = 1"
   ]
  },
  {
   "cell_type": "markdown",
   "metadata": {},
   "source": [
    "Next, let's create the dataframe of negative features."
   ]
  },
  {
   "cell_type": "code",
   "execution_count": 103,
   "metadata": {
    "collapsed": true
   },
   "outputs": [],
   "source": [
    "# Creates a dataframe from the negative features.\n",
    "negFeaturesDf = pd.DataFrame(negativeFeatures)\n",
    "# Pick the 8 features that can be most easily compared.\n",
    "negFeaturesDf = negFeaturesDf[['acousticness', 'danceability', 'energy', 'instrumentalness', 'loudness', 'speechiness', 'tempo', 'valence']]\n",
    "# Add the name of the songs as a column.\n",
    "negFeaturesDf.insert(loc=0, column='name', value=negNames)\n",
    "# Add the artist information as a column.\n",
    "negFeaturesDf.insert(loc=1, column='artists', value=negArtists)\n",
    "# Negative songs are labelled with a '0'.\n",
    "negFeaturesDf['savedTrack'] = 0"
   ]
  },
  {
   "cell_type": "markdown",
   "metadata": {},
   "source": [
    "We will now combine the positive and negative dataframes, to create a dataframe for the overall training set, containing a total of 491 songs."
   ]
  },
  {
   "cell_type": "code",
   "execution_count": 81,
   "metadata": {},
   "outputs": [
    {
     "data": {
      "text/html": [
       "<div>\n",
       "<style>\n",
       "    .dataframe thead tr:only-child th {\n",
       "        text-align: right;\n",
       "    }\n",
       "\n",
       "    .dataframe thead th {\n",
       "        text-align: left;\n",
       "    }\n",
       "\n",
       "    .dataframe tbody tr th {\n",
       "        vertical-align: top;\n",
       "    }\n",
       "</style>\n",
       "<table border=\"1\" class=\"dataframe\">\n",
       "  <thead>\n",
       "    <tr style=\"text-align: right;\">\n",
       "      <th></th>\n",
       "      <th>name</th>\n",
       "      <th>artists</th>\n",
       "      <th>acousticness</th>\n",
       "      <th>danceability</th>\n",
       "      <th>energy</th>\n",
       "      <th>instrumentalness</th>\n",
       "      <th>loudness</th>\n",
       "      <th>speechiness</th>\n",
       "      <th>tempo</th>\n",
       "      <th>valence</th>\n",
       "      <th>savedTrack</th>\n",
       "    </tr>\n",
       "  </thead>\n",
       "  <tbody>\n",
       "    <tr>\n",
       "      <th>0</th>\n",
       "      <td>One More Night - 2016 Remastered</td>\n",
       "      <td>Phil Collins</td>\n",
       "      <td>0.788000</td>\n",
       "      <td>0.534</td>\n",
       "      <td>0.442</td>\n",
       "      <td>0.000351</td>\n",
       "      <td>-9.442</td>\n",
       "      <td>0.0308</td>\n",
       "      <td>136.369</td>\n",
       "      <td>0.343</td>\n",
       "      <td>1</td>\n",
       "    </tr>\n",
       "    <tr>\n",
       "      <th>1</th>\n",
       "      <td>Do You Remember? - 2016 Remastered</td>\n",
       "      <td>Phil Collins</td>\n",
       "      <td>0.117000</td>\n",
       "      <td>0.677</td>\n",
       "      <td>0.500</td>\n",
       "      <td>0.010900</td>\n",
       "      <td>-7.839</td>\n",
       "      <td>0.0248</td>\n",
       "      <td>93.051</td>\n",
       "      <td>0.525</td>\n",
       "      <td>1</td>\n",
       "    </tr>\n",
       "    <tr>\n",
       "      <th>2</th>\n",
       "      <td>Do You Remember Rock And Roll Radio</td>\n",
       "      <td>Ramones</td>\n",
       "      <td>0.445000</td>\n",
       "      <td>0.302</td>\n",
       "      <td>0.961</td>\n",
       "      <td>0.002680</td>\n",
       "      <td>-5.619</td>\n",
       "      <td>0.1160</td>\n",
       "      <td>152.366</td>\n",
       "      <td>0.659</td>\n",
       "      <td>1</td>\n",
       "    </tr>\n",
       "    <tr>\n",
       "      <th>3</th>\n",
       "      <td>All Of My Life - 2016 Remastered</td>\n",
       "      <td>Phil Collins</td>\n",
       "      <td>0.064700</td>\n",
       "      <td>0.544</td>\n",
       "      <td>0.388</td>\n",
       "      <td>0.000303</td>\n",
       "      <td>-8.596</td>\n",
       "      <td>0.0377</td>\n",
       "      <td>169.952</td>\n",
       "      <td>0.240</td>\n",
       "      <td>1</td>\n",
       "    </tr>\n",
       "    <tr>\n",
       "      <th>4</th>\n",
       "      <td>More Than a Feeling</td>\n",
       "      <td>Boston</td>\n",
       "      <td>0.000894</td>\n",
       "      <td>0.377</td>\n",
       "      <td>0.682</td>\n",
       "      <td>0.002170</td>\n",
       "      <td>-8.039</td>\n",
       "      <td>0.0299</td>\n",
       "      <td>108.736</td>\n",
       "      <td>0.288</td>\n",
       "      <td>1</td>\n",
       "    </tr>\n",
       "    <tr>\n",
       "      <th>5</th>\n",
       "      <td>Walking On Sunshine - Original Version</td>\n",
       "      <td>Aly &amp; AJ</td>\n",
       "      <td>0.017200</td>\n",
       "      <td>0.650</td>\n",
       "      <td>0.961</td>\n",
       "      <td>0.000000</td>\n",
       "      <td>-3.149</td>\n",
       "      <td>0.0390</td>\n",
       "      <td>108.982</td>\n",
       "      <td>0.935</td>\n",
       "      <td>1</td>\n",
       "    </tr>\n",
       "    <tr>\n",
       "      <th>6</th>\n",
       "      <td>Walking On Sunshine</td>\n",
       "      <td>Katrina &amp; The Waves</td>\n",
       "      <td>0.011600</td>\n",
       "      <td>0.596</td>\n",
       "      <td>0.869</td>\n",
       "      <td>0.173000</td>\n",
       "      <td>-11.970</td>\n",
       "      <td>0.0370</td>\n",
       "      <td>109.902</td>\n",
       "      <td>0.944</td>\n",
       "      <td>1</td>\n",
       "    </tr>\n",
       "    <tr>\n",
       "      <th>7</th>\n",
       "      <td>One Step Closer</td>\n",
       "      <td>Linkin Park</td>\n",
       "      <td>0.001400</td>\n",
       "      <td>0.492</td>\n",
       "      <td>0.969</td>\n",
       "      <td>0.000001</td>\n",
       "      <td>-4.419</td>\n",
       "      <td>0.0491</td>\n",
       "      <td>95.136</td>\n",
       "      <td>0.538</td>\n",
       "      <td>1</td>\n",
       "    </tr>\n",
       "    <tr>\n",
       "      <th>8</th>\n",
       "      <td>Seven Nation Army</td>\n",
       "      <td>The White Stripes</td>\n",
       "      <td>0.008170</td>\n",
       "      <td>0.737</td>\n",
       "      <td>0.463</td>\n",
       "      <td>0.447000</td>\n",
       "      <td>-7.828</td>\n",
       "      <td>0.0792</td>\n",
       "      <td>123.881</td>\n",
       "      <td>0.324</td>\n",
       "      <td>1</td>\n",
       "    </tr>\n",
       "    <tr>\n",
       "      <th>9</th>\n",
       "      <td>On Top Of The World</td>\n",
       "      <td>Imagine Dragons</td>\n",
       "      <td>0.089400</td>\n",
       "      <td>0.640</td>\n",
       "      <td>0.924</td>\n",
       "      <td>0.000004</td>\n",
       "      <td>-5.577</td>\n",
       "      <td>0.1850</td>\n",
       "      <td>99.959</td>\n",
       "      <td>0.776</td>\n",
       "      <td>1</td>\n",
       "    </tr>\n",
       "  </tbody>\n",
       "</table>\n",
       "</div>"
      ],
      "text/plain": [
       "                                     name              artists  acousticness  \\\n",
       "0        One More Night - 2016 Remastered         Phil Collins      0.788000   \n",
       "1      Do You Remember? - 2016 Remastered         Phil Collins      0.117000   \n",
       "2     Do You Remember Rock And Roll Radio              Ramones      0.445000   \n",
       "3        All Of My Life - 2016 Remastered         Phil Collins      0.064700   \n",
       "4                     More Than a Feeling               Boston      0.000894   \n",
       "5  Walking On Sunshine - Original Version             Aly & AJ      0.017200   \n",
       "6                     Walking On Sunshine  Katrina & The Waves      0.011600   \n",
       "7                         One Step Closer          Linkin Park      0.001400   \n",
       "8                       Seven Nation Army    The White Stripes      0.008170   \n",
       "9                     On Top Of The World      Imagine Dragons      0.089400   \n",
       "\n",
       "   danceability  energy  instrumentalness  loudness  speechiness    tempo  \\\n",
       "0         0.534   0.442          0.000351    -9.442       0.0308  136.369   \n",
       "1         0.677   0.500          0.010900    -7.839       0.0248   93.051   \n",
       "2         0.302   0.961          0.002680    -5.619       0.1160  152.366   \n",
       "3         0.544   0.388          0.000303    -8.596       0.0377  169.952   \n",
       "4         0.377   0.682          0.002170    -8.039       0.0299  108.736   \n",
       "5         0.650   0.961          0.000000    -3.149       0.0390  108.982   \n",
       "6         0.596   0.869          0.173000   -11.970       0.0370  109.902   \n",
       "7         0.492   0.969          0.000001    -4.419       0.0491   95.136   \n",
       "8         0.737   0.463          0.447000    -7.828       0.0792  123.881   \n",
       "9         0.640   0.924          0.000004    -5.577       0.1850   99.959   \n",
       "\n",
       "   valence  savedTrack  \n",
       "0    0.343           1  \n",
       "1    0.525           1  \n",
       "2    0.659           1  \n",
       "3    0.240           1  \n",
       "4    0.288           1  \n",
       "5    0.935           1  \n",
       "6    0.944           1  \n",
       "7    0.538           1  \n",
       "8    0.324           1  \n",
       "9    0.776           1  "
      ]
     },
     "execution_count": 81,
     "metadata": {},
     "output_type": "execute_result"
    }
   ],
   "source": [
    "finalFeaturesDf = posFeaturesDf.append(negFeaturesDf, ignore_index=True)\n",
    "finalFeaturesDf.head(10)"
   ]
  },
  {
   "cell_type": "markdown",
   "metadata": {},
   "source": [
    "Lastly, we can do the same for the test features as well. "
   ]
  },
  {
   "cell_type": "code",
   "execution_count": 82,
   "metadata": {},
   "outputs": [
    {
     "data": {
      "text/html": [
       "<div>\n",
       "<style>\n",
       "    .dataframe thead tr:only-child th {\n",
       "        text-align: right;\n",
       "    }\n",
       "\n",
       "    .dataframe thead th {\n",
       "        text-align: left;\n",
       "    }\n",
       "\n",
       "    .dataframe tbody tr th {\n",
       "        vertical-align: top;\n",
       "    }\n",
       "</style>\n",
       "<table border=\"1\" class=\"dataframe\">\n",
       "  <thead>\n",
       "    <tr style=\"text-align: right;\">\n",
       "      <th></th>\n",
       "      <th>name</th>\n",
       "      <th>artists</th>\n",
       "      <th>acousticness</th>\n",
       "      <th>danceability</th>\n",
       "      <th>energy</th>\n",
       "      <th>instrumentalness</th>\n",
       "      <th>loudness</th>\n",
       "      <th>speechiness</th>\n",
       "      <th>tempo</th>\n",
       "      <th>valence</th>\n",
       "    </tr>\n",
       "  </thead>\n",
       "  <tbody>\n",
       "    <tr>\n",
       "      <th>0</th>\n",
       "      <td>Paint It, Black - Mono / Remastered</td>\n",
       "      <td>The Rolling Stones</td>\n",
       "      <td>0.010700</td>\n",
       "      <td>0.506</td>\n",
       "      <td>0.838</td>\n",
       "      <td>0.04530</td>\n",
       "      <td>-7.423</td>\n",
       "      <td>0.0918</td>\n",
       "      <td>159.739</td>\n",
       "      <td>0.785</td>\n",
       "    </tr>\n",
       "    <tr>\n",
       "      <th>1</th>\n",
       "      <td>Hallowed Be Thy Name - 1998 Remastered Version</td>\n",
       "      <td>Iron Maiden</td>\n",
       "      <td>0.001680</td>\n",
       "      <td>0.307</td>\n",
       "      <td>0.911</td>\n",
       "      <td>0.13600</td>\n",
       "      <td>-5.193</td>\n",
       "      <td>0.0364</td>\n",
       "      <td>104.905</td>\n",
       "      <td>0.343</td>\n",
       "    </tr>\n",
       "    <tr>\n",
       "      <th>2</th>\n",
       "      <td>Gimme Shelter</td>\n",
       "      <td>The Rolling Stones</td>\n",
       "      <td>0.463000</td>\n",
       "      <td>0.630</td>\n",
       "      <td>0.616</td>\n",
       "      <td>0.04080</td>\n",
       "      <td>-8.128</td>\n",
       "      <td>0.0309</td>\n",
       "      <td>118.650</td>\n",
       "      <td>0.509</td>\n",
       "    </tr>\n",
       "    <tr>\n",
       "      <th>3</th>\n",
       "      <td>Born To Be Wild</td>\n",
       "      <td>Steppenwolf</td>\n",
       "      <td>0.273000</td>\n",
       "      <td>0.439</td>\n",
       "      <td>0.737</td>\n",
       "      <td>0.28000</td>\n",
       "      <td>-12.054</td>\n",
       "      <td>0.1150</td>\n",
       "      <td>145.942</td>\n",
       "      <td>0.533</td>\n",
       "    </tr>\n",
       "    <tr>\n",
       "      <th>4</th>\n",
       "      <td>Lost</td>\n",
       "      <td>Avenged Sevenfold</td>\n",
       "      <td>0.000058</td>\n",
       "      <td>0.214</td>\n",
       "      <td>0.955</td>\n",
       "      <td>0.00015</td>\n",
       "      <td>-3.576</td>\n",
       "      <td>0.0687</td>\n",
       "      <td>179.997</td>\n",
       "      <td>0.393</td>\n",
       "    </tr>\n",
       "  </tbody>\n",
       "</table>\n",
       "</div>"
      ],
      "text/plain": [
       "                                             name             artists  \\\n",
       "0             Paint It, Black - Mono / Remastered  The Rolling Stones   \n",
       "1  Hallowed Be Thy Name - 1998 Remastered Version         Iron Maiden   \n",
       "2                                   Gimme Shelter  The Rolling Stones   \n",
       "3                                 Born To Be Wild         Steppenwolf   \n",
       "4                                            Lost   Avenged Sevenfold   \n",
       "\n",
       "   acousticness  danceability  energy  instrumentalness  loudness  \\\n",
       "0      0.010700         0.506   0.838           0.04530    -7.423   \n",
       "1      0.001680         0.307   0.911           0.13600    -5.193   \n",
       "2      0.463000         0.630   0.616           0.04080    -8.128   \n",
       "3      0.273000         0.439   0.737           0.28000   -12.054   \n",
       "4      0.000058         0.214   0.955           0.00015    -3.576   \n",
       "\n",
       "   speechiness    tempo  valence  \n",
       "0       0.0918  159.739    0.785  \n",
       "1       0.0364  104.905    0.343  \n",
       "2       0.0309  118.650    0.509  \n",
       "3       0.1150  145.942    0.533  \n",
       "4       0.0687  179.997    0.393  "
      ]
     },
     "execution_count": 82,
     "metadata": {},
     "output_type": "execute_result"
    }
   ],
   "source": [
    "# Creates a dataframe from the test features.\n",
    "testFeaturesDf = pd.DataFrame(testFeatures)\n",
    "# Pick the 8 features that can be most easily compared.\n",
    "testFeaturesDf = testFeaturesDf[['acousticness', 'danceability', 'energy', 'instrumentalness', 'loudness', 'speechiness', 'tempo', 'valence']]\n",
    "# Add the name of the songs as a column.\n",
    "testFeaturesDf.insert(loc=0, column='name', value=testNames)\n",
    "# Add the artist information as a column.\n",
    "testFeaturesDf.insert(loc=1, column='artists', value=testArtists)\n",
    "\n",
    "testFeaturesDf.head()"
   ]
  },
  {
   "cell_type": "markdown",
   "metadata": {},
   "source": [
    "Great! So far, we have collected all the data that we needed, extracted a few features from the songs and saved them into dataframes. Now, we are ready to move on to the next part of the Data Science Pipeline!\n",
    "\n",
    "\n"
   ]
  },
  {
   "cell_type": "markdown",
   "metadata": {},
   "source": [
    "# Data Visualization\n",
    "\n",
    "We are ready to visualize each of the features that we have collected! This will gives us an overall sense of our listening habits broken down into individual features. We can even see how well it correlates with the genres of music that we listen to!"
   ]
  },
  {
   "cell_type": "markdown",
   "metadata": {},
   "source": [
    "To achieve this, we will first split all the data by the columns as follows:"
   ]
  },
  {
   "cell_type": "code",
   "execution_count": 83,
   "metadata": {
    "collapsed": true
   },
   "outputs": [],
   "source": [
    "posAcousticness = posFeaturesDf['acousticness']\n",
    "posDanceability = posFeaturesDf['danceability']\n",
    "posEnergy = posFeaturesDf['energy']\n",
    "posInstrumentalness = posFeaturesDf['instrumentalness']\n",
    "posLoudness = posFeaturesDf['loudness']\n",
    "posSpeechiness = posFeaturesDf['speechiness']\n",
    "posTempo = posFeaturesDf['tempo']\n",
    "posValence = posFeaturesDf['valence']"
   ]
  },
  {
   "cell_type": "markdown",
   "metadata": {},
   "source": [
    "Let's visualize the features for just the positive dataset. I have normalized the data so that it is easy to compare between the positive and negative song datasets (as the number of songs in each set differs). We will view the 8 features on a 3 * 3 grid. The code for visualizing the features is as follows:"
   ]
  },
  {
   "cell_type": "code",
   "execution_count": 84,
   "metadata": {},
   "outputs": [
    {
     "data": {
      "image/png": "[encoded data removed]",
      "text/plain": [
       "<matplotlib.figure.Figure at 0x1a13e9f9e8>"
      ]
     },
     "metadata": {},
     "output_type": "display_data"
    }
   ],
   "source": [
    "# Set width and height of plot window.\n",
    "width = 15\n",
    "height = 12\n",
    "\n",
    "# Create a figure of given width and height.\n",
    "fig = plt.figure(figsize=(width, height))\n",
    "\n",
    "# Add the figure as a subplot of the plot.\n",
    "ax1 = fig.add_subplot(3, 3, 1)\n",
    "\n",
    "# Creates a histogram with the acousticsness features, number of bins = 10,\n",
    "# range of values between 0 and 1, and sets the density to True which \n",
    "# results in the normalization of data. The remaining features are set up exactly the same way.\n",
    "nAcoust, bins, patches = ax1.hist(posAcousticness, 10, range=(0,1), density=True)\n",
    "ax1.set_xlabel(\"Acousticness\")\n",
    "\n",
    "ax2 = fig.add_subplot(3, 3, 2)\n",
    "nEnergy, bins, patches = ax2.hist(posEnergy, 10, range=(0,1), density=True)\n",
    "ax2.set_xlabel(\"Energy\")\n",
    "\n",
    "ax3 = fig.add_subplot(3, 3, 3)\n",
    "nDance, bins, patches = ax3.hist(posDanceability, 10, range=(0,1), density=True)\n",
    "ax3.set_xlabel(\"Danceability\")\n",
    "\n",
    "ax4 = fig.add_subplot(3, 3, 4)\n",
    "nInstru, bins, patches = ax4.hist(posInstrumentalness, 10, range=(0,1), density=True)\n",
    "ax4.set_xlabel(\"Instrumentalness\")\n",
    "\n",
    "ax5 = fig.add_subplot(3, 3, 5)\n",
    "nLoud, bins, patches = ax5.hist(posLoudness, 10, range=(-25,0), density=True)\n",
    "ax5.set_xlabel(\"Loudness\")\n",
    "\n",
    "ax6 = fig.add_subplot(3, 3, 6)\n",
    "nSpeech, bins, patches = ax6.hist(posSpeechiness, 10, range=(0,0.5), density=True)\n",
    "ax6.set_xlabel(\"Speechiness\")\n",
    "\n",
    "ax7 = fig.add_subplot(3, 3, 7)\n",
    "nTempo, bins, patches = ax7.hist(posTempo, 10, range=(50,250), density=True)\n",
    "ax7.set_xlabel(\"Tempo\")\n",
    "\n",
    "ax8 = fig.add_subplot(3, 3, 8)\n",
    "nVal, bins, patches = ax8.hist(posValence, 10, range=(0,1), density=True)\n",
    "ax8.set_xlabel(\"Valence\")\n",
    "\n",
    "# Show the results of the plot.\n",
    "plt.show()"
   ]
  },
  {
   "cell_type": "markdown",
   "metadata": {},
   "source": [
    "Now, let's visualize the songs in the negative dataset using the same process."
   ]
  },
  {
   "cell_type": "markdown",
   "metadata": {},
   "source": [
    "The code for visualizing the normalized negative features is as follows:"
   ]
  },
  {
   "cell_type": "code",
   "execution_count": 115,
   "metadata": {
    "collapsed": true
   },
   "outputs": [],
   "source": [
    "negAcousticness = negFeaturesDf['acousticness']\n",
    "negDanceability = negFeaturesDf['danceability']\n",
    "negEnergy = negFeaturesDf['energy']\n",
    "negInstrumentalness = negFeaturesDf['instrumentalness']\n",
    "negLoudness = negFeaturesDf['loudness']\n",
    "negSpeechiness = negFeaturesDf['speechiness']\n",
    "negTempo = negFeaturesDf['tempo']\n",
    "negValence = negFeaturesDf['valence']"
   ]
  },
  {
   "cell_type": "code",
   "execution_count": 116,
   "metadata": {},
   "outputs": [
    {
     "data": {
      "image/png": "[encoded data removed]",
      "text/plain": [
       "<matplotlib.figure.Figure at 0x1a137d0f28>"
      ]
     },
     "metadata": {},
     "output_type": "display_data"
    }
   ],
   "source": [
    "# Set width and height of plot window.\n",
    "width = 15\n",
    "height = 12\n",
    "\n",
    "# Create a figure of given width and height.\n",
    "fig = plt.figure(figsize=(width, height))\n",
    "\n",
    "# Add the figure as a subplot of the plot.\n",
    "ax1 = fig.add_subplot(3, 3, 1)\n",
    "\n",
    "# Creates a histogram with the acousticsness features, number of bins = 10,\n",
    "# range of values between 0 and 1, and sets the density to True which \n",
    "# results in the normalization of data. The remaining features are set up exactly the same way.\n",
    "nAcoust, bins, patches = ax1.hist(negAcousticness, 10, range=(0,1), density=True)\n",
    "ax1.set_xlabel(\"Acousticness\")\n",
    "\n",
    "ax2 = fig.add_subplot(3, 3, 2)\n",
    "nEnergy, bins, patches = ax2.hist(negEnergy, 10, range=(0,1), density=True)\n",
    "ax2.set_xlabel(\"Energy\")\n",
    "\n",
    "ax3 = fig.add_subplot(3, 3, 3)\n",
    "nDance, bins, patches = ax3.hist(negDanceability, 10, range=(0,1), density=True)\n",
    "ax3.set_xlabel(\"Danceability\")\n",
    "\n",
    "ax4 = fig.add_subplot(3, 3, 4)\n",
    "nInstru, bins, patches = ax4.hist(negInstrumentalness, 10, range=(0,1), density=True)\n",
    "ax4.set_xlabel(\"Instrumentalness\")\n",
    "\n",
    "ax5 = fig.add_subplot(3, 3, 5)\n",
    "nLoud, bins, patches = ax5.hist(negLoudness, 10, range=(-25,0), density=True)\n",
    "ax5.set_xlabel(\"Loudness\")\n",
    "\n",
    "ax6 = fig.add_subplot(3, 3, 6)\n",
    "nSpeech, bins, patches = ax6.hist(negSpeechiness, 10, range=(0,0.5), density=True)\n",
    "ax6.set_xlabel(\"Speechiness\")\n",
    "\n",
    "ax7 = fig.add_subplot(3, 3, 7)\n",
    "nTempo, bins, patches = ax7.hist(negTempo, 10, range=(50,250), density=True)\n",
    "ax7.set_xlabel(\"Tempo\")\n",
    "\n",
    "ax8 = fig.add_subplot(3, 3, 8)\n",
    "nVal, bins, patches = ax8.hist(negValence, 10, range=(0,1), density=True)\n",
    "ax8.set_xlabel(\"Valence\")\n",
    "\n",
    "plt.show()"
   ]
  },
  {
   "cell_type": "markdown",
   "metadata": {},
   "source": [
    "Awesome, now we are able to visually appreciate the trends in the music that I listen to. We notice the following: \n",
    "\n",
    "1. I enjoy more energetic, louder music with high tempo.\n",
    "2. Most of the songs I like are not instrumental or acoustic. \n",
    "3. There is a slight correlation between danceability and valence of the songs. My songs are widely distributed, majority of which are in the middle.\n",
    "4. The negative set of songs have greater speechiness and danceability but have lower tempo, energy and instrumentalness.\n",
    "\n",
    "This correlates well with the songs that I prefer. I primarily enjoy Rock songs and listen to a little Jazz. This explains the high energy, loudness and tempo. Neither of these genres involve extremely wordy songs which explains the low speechiness. This is in contrast with the negative songs that span genres including rap (more speechiness), hip-hop (less energy) etc. The rock songs that I dislike provide some resemblance of the positive dataset. \n",
    "\n",
    "Now that we have visualized our data and gained some insights from the features of our data, we are ready to use Machine Learning to predict if we like songs in the test dataset!"
   ]
  },
  {
   "cell_type": "markdown",
   "metadata": {},
   "source": [
    "# Data Modelling and Machine Learning\n",
    "\n",
    "It's now time for the meat of the tutorial! We will use some machine learning techniques to create a model from our training dataset of songs and then use our model to predict if we will like the songs from the test dataset or not. "
   ]
  },
  {
   "cell_type": "markdown",
   "metadata": {},
   "source": [
    "We will first start by extracting our training and testing data. Here, `X` refers to all the features in data (`acousticness`, `loudness` etc). `y` refers to the labels i.e. is the song positive (1) or negative (0)."
   ]
  },
  {
   "cell_type": "code",
   "execution_count": 87,
   "metadata": {},
   "outputs": [
    {
     "data": {
      "text/html": [
       "<div>\n",
       "<style>\n",
       "    .dataframe thead tr:only-child th {\n",
       "        text-align: right;\n",
       "    }\n",
       "\n",
       "    .dataframe thead th {\n",
       "        text-align: left;\n",
       "    }\n",
       "\n",
       "    .dataframe tbody tr th {\n",
       "        vertical-align: top;\n",
       "    }\n",
       "</style>\n",
       "<table border=\"1\" class=\"dataframe\">\n",
       "  <thead>\n",
       "    <tr style=\"text-align: right;\">\n",
       "      <th></th>\n",
       "      <th>acousticness</th>\n",
       "      <th>danceability</th>\n",
       "      <th>energy</th>\n",
       "      <th>instrumentalness</th>\n",
       "      <th>loudness</th>\n",
       "      <th>speechiness</th>\n",
       "      <th>tempo</th>\n",
       "      <th>valence</th>\n",
       "    </tr>\n",
       "  </thead>\n",
       "  <tbody>\n",
       "    <tr>\n",
       "      <th>0</th>\n",
       "      <td>0.788000</td>\n",
       "      <td>0.534</td>\n",
       "      <td>0.442</td>\n",
       "      <td>0.000351</td>\n",
       "      <td>-9.442</td>\n",
       "      <td>0.0308</td>\n",
       "      <td>136.369</td>\n",
       "      <td>0.343</td>\n",
       "    </tr>\n",
       "    <tr>\n",
       "      <th>1</th>\n",
       "      <td>0.117000</td>\n",
       "      <td>0.677</td>\n",
       "      <td>0.500</td>\n",
       "      <td>0.010900</td>\n",
       "      <td>-7.839</td>\n",
       "      <td>0.0248</td>\n",
       "      <td>93.051</td>\n",
       "      <td>0.525</td>\n",
       "    </tr>\n",
       "    <tr>\n",
       "      <th>2</th>\n",
       "      <td>0.445000</td>\n",
       "      <td>0.302</td>\n",
       "      <td>0.961</td>\n",
       "      <td>0.002680</td>\n",
       "      <td>-5.619</td>\n",
       "      <td>0.1160</td>\n",
       "      <td>152.366</td>\n",
       "      <td>0.659</td>\n",
       "    </tr>\n",
       "    <tr>\n",
       "      <th>3</th>\n",
       "      <td>0.064700</td>\n",
       "      <td>0.544</td>\n",
       "      <td>0.388</td>\n",
       "      <td>0.000303</td>\n",
       "      <td>-8.596</td>\n",
       "      <td>0.0377</td>\n",
       "      <td>169.952</td>\n",
       "      <td>0.240</td>\n",
       "    </tr>\n",
       "    <tr>\n",
       "      <th>4</th>\n",
       "      <td>0.000894</td>\n",
       "      <td>0.377</td>\n",
       "      <td>0.682</td>\n",
       "      <td>0.002170</td>\n",
       "      <td>-8.039</td>\n",
       "      <td>0.0299</td>\n",
       "      <td>108.736</td>\n",
       "      <td>0.288</td>\n",
       "    </tr>\n",
       "  </tbody>\n",
       "</table>\n",
       "</div>"
      ],
      "text/plain": [
       "   acousticness  danceability  energy  instrumentalness  loudness  \\\n",
       "0      0.788000         0.534   0.442          0.000351    -9.442   \n",
       "1      0.117000         0.677   0.500          0.010900    -7.839   \n",
       "2      0.445000         0.302   0.961          0.002680    -5.619   \n",
       "3      0.064700         0.544   0.388          0.000303    -8.596   \n",
       "4      0.000894         0.377   0.682          0.002170    -8.039   \n",
       "\n",
       "   speechiness    tempo  valence  \n",
       "0       0.0308  136.369    0.343  \n",
       "1       0.0248   93.051    0.525  \n",
       "2       0.1160  152.366    0.659  \n",
       "3       0.0377  169.952    0.240  \n",
       "4       0.0299  108.736    0.288  "
      ]
     },
     "execution_count": 87,
     "metadata": {},
     "output_type": "execute_result"
    }
   ],
   "source": [
    "# We are dropping name and artists, as, for our model, they do not add any value to features. Moreover 'savedTrack'\n",
    "# is the label, hence, it has to be dropped from the training data.\n",
    "X_train = finalFeaturesDf.drop(['name', 'artists', 'savedTrack'], axis=1)\n",
    "y_train = finalFeaturesDf['savedTrack']\n",
    "# We drop name and artists for the test data set too, for the same reasons as for the training data.\n",
    "X_test = testFeaturesDf.drop(['name', 'artists'], axis=1)\n",
    "\n",
    "X_train.head()"
   ]
  },
  {
   "cell_type": "markdown",
   "metadata": {},
   "source": [
    "### Normalizing data\n",
    "It is common to normalize our data before we try to fit a model through it. For this, I used the StandardScaler class provided by Scikit-learn, as it automatically normalizes our data to match a gaussian with mean = 0, and standard deviation = 1. \n",
    "\n",
    "\n",
    "More information at: http://scikit-learn.org/stable/modules/generated/sklearn.preprocessing.StandardScaler.html "
   ]
  },
  {
   "cell_type": "code",
   "execution_count": 88,
   "metadata": {},
   "outputs": [
    {
     "data": {
      "text/plain": [
       "array([[ 2.40758764, -0.14812707, -1.2197199 , ..., -0.70182551,\n",
       "         0.45390882, -0.58449942],\n",
       "       [-0.25850021,  0.65419076, -0.94587383, ..., -0.77076086,\n",
       "        -1.03721354,  0.2265558 ],\n",
       "       [ 1.04474392, -1.44978958,  1.23073028, ...,  0.27705646,\n",
       "         1.00456869,  0.82370634],\n",
       "       ..., \n",
       "       [ 0.93349138, -0.13129523,  1.31099551, ..., -0.54786989,\n",
       "         0.10878687,  2.03583282],\n",
       "       [ 2.20097577, -0.54648068, -2.05070108, ..., -0.69378305,\n",
       "        -0.09867872, -0.47309074],\n",
       "       [ 1.97449736,  0.34560698,  0.38086317, ..., -0.46284963,\n",
       "        -1.59974924,  1.08663084]])"
      ]
     },
     "execution_count": 88,
     "metadata": {},
     "output_type": "execute_result"
    }
   ],
   "source": [
    "# Initialize the StandardScaler class. \n",
    "# with_mean centers the data around the mean before scaling the data.\n",
    "# with_std scales the data to unit variance.\n",
    "scaler = StandardScaler(with_mean=True, with_std=True)\n",
    "\n",
    "# We will use this scaler to fit the training data. We should ensure that this is on the training data only.\n",
    "scaler.fit(X_train)\n",
    "\n",
    "# Perform standardization by centering and scaling. \n",
    "X_train = scaler.transform(X_train)\n",
    "# Use the same scaler on the test data as well, to maintain consistency.\n",
    "X_test = scaler.transform(X_test)\n",
    "\n",
    "X_train"
   ]
  },
  {
   "cell_type": "markdown",
   "metadata": {},
   "source": [
    "### Principal Component Analysis (PCA)\n",
    "\n",
    "Principal Component Analysis (PCA) is a common way to speed up machine learning algorithms. PCA's [wikipedia page](https://en.wikipedia.org/wiki/Principal_component_analysis) describes that PCA tends to convert possibly correlated variables into a set of linearly uncorrelated variables. PCA is commonly used as it is able to reduce data of high dimensionality to fewer dimensions, making it easier to analyze and train models on.\n",
    "\n",
    "In our case, we have 8 features, so we are working with 8 dimensional input. The number of features that we want to reduce to depends on the number of features that seem to be correlated. In our case, by eyeballing the visualization charts, we notice that there's a correlation between, acousticness and instrumentalness, energy and loudness and, danceability and valence. Hence, we can reduce these 8 dimensions to 5 uncorrelated dimensions, which was my input to PCA. Later, I tried different number of components to see which model gave me the best output, and, lo and behold, the answer was 5!\n",
    "\n",
    "Applying PCA is pretty simple using Scikit-learn. There's a PCA class available in their library, that takes in the number of components and allows us to transform our data on the resulting number of dimensions. More information at: \n",
    "\n",
    "\n",
    "\n",
    "\n",
    "http://scikit-learn.org/stable/modules/generated/sklearn.decomposition.PCA.html"
   ]
  },
  {
   "cell_type": "code",
   "execution_count": 89,
   "metadata": {},
   "outputs": [
    {
     "data": {
      "text/plain": [
       "array([[ 2.40088426, -0.08248985,  0.37401355, -1.13400205, -0.04892167],\n",
       "       [ 0.60428848, -1.18118369, -0.83260844,  0.09414002, -0.57896374],\n",
       "       [-0.56931474,  1.07906247,  0.11103445, -1.14960077,  1.03361084],\n",
       "       ..., \n",
       "       [-1.26540238, -0.60429773, -1.04385064, -0.90781057,  1.44752283],\n",
       "       [ 3.61860755, -0.32632857,  0.2117818 , -1.1704395 , -0.30732753],\n",
       "       [ 0.67066043, -1.65192651, -0.95543936, -0.04712191,  0.28753746]])"
      ]
     },
     "execution_count": 89,
     "metadata": {},
     "output_type": "execute_result"
    }
   ],
   "source": [
    "# Initialize the PCA class and pass in the number of dimensions to which you want to reduce your data to.\n",
    "pca = PCA(n_components = 5)\n",
    "\n",
    "# Fit the training data to the PCA model.\n",
    "pca.fit(X_train)\n",
    "\n",
    "# Reduce the dimensionality of the training set.\n",
    "X_train = pca.transform(X_train)\n",
    "\n",
    "# Reduce the dimensionality of the testing set.\n",
    "X_test = pca.transform(X_test)\n",
    "\n",
    "# Output of the training set\n",
    "X_train"
   ]
  },
  {
   "cell_type": "markdown",
   "metadata": {},
   "source": [
    "As we can see above, the number of dimensions for each song has reduced to 5. "
   ]
  },
  {
   "cell_type": "markdown",
   "metadata": {},
   "source": [
    "### Logistic Regression\n",
    "\n",
    "Lastly, we want to find the weights for each feature that leads to a specific output. We can then use these same weights on the testset parameters to get a score for the output and classify them as positive or negative songs.\n",
    "\n",
    "There are many algorithms that can accomplish this task. Two examples include Logistic Regression and Neural Networks. Running a Neural Net might be overkill given our small dataset of only about 500 songs. Hence, I settled on using Logistic Regression.\n",
    "\n",
    "Logistic Regression is ideal for binary classification. It aims to find the weights of each feature by maximizing the log likelihoods of the features a.k.a [Maximum Likelihood Estimation](https://towardsdatascience.com/probability-concepts-explained-maximum-likelihood-estimation-c7b4342fdbb1). This is then written in the form of linear expression of weights and the features. This is known as the logit function. It is essentially the natural log of the ratio of the presence of a feature to the absence of the feature. This is then passed into a sigmoid function, which is defined as:\n",
    "\n",
    "[<img src=\"https://github.com/vr96/PDSTutorial15388/blob/master/Images/sigmoidEquation.png?raw=true\">](https://github.com/vr96/PDSTutorial15388/blob/master/Images/sigmoidEquation.png?raw=true)\n",
    "\n",
    "and it looks like:\n",
    "\n",
    "[<img src=\"https://github.com/vr96/PDSTutorial15388/blob/master/Images/sigmoidFnGraph.png?raw=true\">](https://github.com/vr96/PDSTutorial15388/blob/master/Images/sigmoidFnGraph.png?raw=true)\n",
    "\n",
    "This has the wonderful property of outputting values between 0 and 1. Lastly, if the output is less than 0.5, the data point is classified as negative and if the output is greater than or equal to 0.5, the data point is classified as positive. The points that are very close to the border can be potentially misclassified. However, this is beyond the scope of this tutorial. More information about logistic regression can be found here:\n",
    "https://machinelearningmastery.com/logistic-regression-for-machine-learning/\n",
    "\n",
    "Again, Scikit-learn has a class that helps us perform Logistic Regression, in a few lines of code. Given the training data and the training labels, we can fit a model based on the process described above. More information at: http://scikit-learn.org/stable/modules/generated/sklearn.linear_model.LogisticRegression.html \n",
    "\n",
    "The following code snippet shows how this works:"
   ]
  },
  {
   "cell_type": "code",
   "execution_count": 113,
   "metadata": {},
   "outputs": [],
   "source": [
    "# Create the logistic regression class. \n",
    "# The fit_intercept specifies that a bias term (constant) should be added to the model.\n",
    "clf = LogisticRegression(fit_intercept=True)\n",
    "\n",
    "# We can now fit a model through our training data and training labels.\n",
    "clf = clf.fit(X_train, y_train)"
   ]
  },
  {
   "cell_type": "markdown",
   "metadata": {
    "collapsed": true
   },
   "source": [
    "Now, using this model, we can predict the results on the test data! Before I did this prediction, I manually listened to all the songs in the test set and created test labels based on if I liked them or not. Note that I have never listened to these songs before."
   ]
  },
  {
   "cell_type": "code",
   "execution_count": 114,
   "metadata": {},
   "outputs": [
    {
     "data": {
      "text/plain": [
       "array([1, 1, 1, 1, 1, 1, 1, 1, 1, 1, 0, 0, 0, 1, 0])"
      ]
     },
     "execution_count": 114,
     "metadata": {},
     "output_type": "execute_result"
    }
   ],
   "source": [
    "# Test labels for the new songs.\n",
    "y_test = [1, 1, 1, 1, 1, 1, 1, 1, 1, 1, 1, 0, 0, 1, 1]\n",
    "\n",
    "# Predict the labels of the test set using our model.\n",
    "predicted = clf.predict(X_test)\n",
    "\n",
    "predicted"
   ]
  },
  {
   "cell_type": "markdown",
   "metadata": {},
   "source": [
    "Awesome! We notice that the songs have been more or less accurately predicted to the right label compared to the test labels that I provided. We can now quickly check the accuracy of our model on this small test set using the `score` function on the Linear Regression model. "
   ]
  },
  {
   "cell_type": "code",
   "execution_count": 92,
   "metadata": {},
   "outputs": [
    {
     "data": {
      "text/plain": [
       "0.8666666666666667"
      ]
     },
     "execution_count": 92,
     "metadata": {},
     "output_type": "execute_result"
    }
   ],
   "source": [
    "# Uses the score function of the Linear Regression model to check the accuracy \n",
    "# between the predicted labels and the actual test labels.\n",
    "val = clf.score(X_test, y_test)\n",
    "val"
   ]
  },
  {
   "cell_type": "markdown",
   "metadata": {},
   "source": [
    "Hurray! Our classifier has an accuracy of ~87% (on 15 songs), which means that our model is working quite well! Given a larger collection of songs and playlists, we can predict which songs we would like and which ones we wouldn't, as an actual recommendation system. "
   ]
  },
  {
   "cell_type": "markdown",
   "metadata": {},
   "source": [
    "# Final Words and Future Scope"
   ]
  },
  {
   "cell_type": "markdown",
   "metadata": {},
   "source": [
    "In this tutorial, we went through the entire Data Science pipeline to analyze features of our songs and create a very simple song predictor. \n",
    "\n",
    "As with all projects there will always be some scope for improvement. Some ideas that come to mind include:\n",
    "1. Scraping a lot more songs and using a Neural Net instead of Logistic Regression to achieve, perhaps, an even higher accuracy score on larger test sets. More info on using Scikit-learn for Neural Nets can be found here:\n",
    "https://www.kdnuggets.com/2016/10/beginners-guide-neural-networks-python-scikit-learn.html\n",
    "2. Using lyrics of the songs as a feature. We could do some basic sentiment analyis on the lyrics and see how that corresponds to the valence of the songs and the type of music we listen to. More information about that can be found here: https://opendatascience.com/blog/sentiment-analysis-on-lyrics/\n",
    "3. We could also use the number of times a song has been listened to by the user over a period of time, to get a greater sense of the specific songs that they enjoy more than the others, which could be a very valuable feature to add to our training dataset.\n",
    "\n",
    "\n",
    "\n",
    "Thanks a lot for reading along! I hope this tutorial was informational and enjoyable. "
   ]
  }
 ],
 "metadata": {
  "kernelspec": {
   "display_name": "Python 3",
   "language": "python",
   "name": "python3"
  },
  "language_info": {
   "codemirror_mode": {
    "name": "ipython",
    "version": 3
   },
   "file_extension": ".py",
   "mimetype": "text/x-python",
   "name": "python",
   "nbconvert_exporter": "python",
   "pygments_lexer": "ipython3",
   "version": "3.6.3"
  }
 },
 "nbformat": 4,
 "nbformat_minor": 2
}
